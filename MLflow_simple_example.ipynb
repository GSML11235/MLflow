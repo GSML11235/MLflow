{
 "cells": [
  {
   "cell_type": "code",
   "execution_count": 8,
   "id": "8d3ba908",
   "metadata": {},
   "outputs": [
    {
     "name": "stdout",
     "output_type": "stream",
     "text": [
      "Requirement already satisfied: mlflow in c:\\users\\gaura\\anaconda3\\lib\\site-packages (1.27.0)\n",
      "Requirement already satisfied: databricks-cli>=0.8.7 in c:\\users\\gaura\\anaconda3\\lib\\site-packages (from mlflow) (0.17.0)\n",
      "Requirement already satisfied: protobuf>=3.12.0 in c:\\users\\gaura\\anaconda3\\lib\\site-packages (from mlflow) (3.19.1)\n",
      "Requirement already satisfied: waitress in c:\\users\\gaura\\anaconda3\\lib\\site-packages (from mlflow) (2.1.2)\n",
      "Requirement already satisfied: Flask in c:\\users\\gaura\\anaconda3\\lib\\site-packages (from mlflow) (1.1.2)\n",
      "Requirement already satisfied: scipy in c:\\users\\gaura\\anaconda3\\lib\\site-packages (from mlflow) (1.7.3)\n",
      "Requirement already satisfied: sqlparse>=0.3.1 in c:\\users\\gaura\\anaconda3\\lib\\site-packages (from mlflow) (0.4.2)\n",
      "Requirement already satisfied: pyyaml>=5.1 in c:\\users\\gaura\\anaconda3\\lib\\site-packages (from mlflow) (6.0)\n",
      "Requirement already satisfied: querystring-parser in c:\\users\\gaura\\anaconda3\\lib\\site-packages (from mlflow) (1.2.4)\n",
      "Requirement already satisfied: numpy in c:\\users\\gaura\\anaconda3\\lib\\site-packages (from mlflow) (1.21.5)\n",
      "Requirement already satisfied: prometheus-flask-exporter in c:\\users\\gaura\\anaconda3\\lib\\site-packages (from mlflow) (0.20.2)\n",
      "Requirement already satisfied: click>=7.0 in c:\\users\\gaura\\anaconda3\\lib\\site-packages (from mlflow) (8.0.4)\n",
      "Requirement already satisfied: sqlalchemy>=1.4.0 in c:\\users\\gaura\\anaconda3\\lib\\site-packages (from mlflow) (1.4.32)\n",
      "Requirement already satisfied: gitpython>=2.1.0 in c:\\users\\gaura\\anaconda3\\lib\\site-packages (from mlflow) (3.1.27)\n",
      "Requirement already satisfied: pytz in c:\\users\\gaura\\anaconda3\\lib\\site-packages (from mlflow) (2021.3)\n",
      "Requirement already satisfied: alembic in c:\\users\\gaura\\anaconda3\\lib\\site-packages (from mlflow) (1.8.0)\n",
      "Requirement already satisfied: docker>=4.0.0 in c:\\users\\gaura\\anaconda3\\lib\\site-packages (from mlflow) (5.0.3)\n",
      "Requirement already satisfied: importlib-metadata!=4.7.0,>=3.7.0 in c:\\users\\gaura\\anaconda3\\lib\\site-packages (from mlflow) (4.11.3)\n",
      "Requirement already satisfied: cloudpickle in c:\\users\\gaura\\anaconda3\\lib\\site-packages (from mlflow) (2.0.0)\n",
      "Requirement already satisfied: packaging in c:\\users\\gaura\\anaconda3\\lib\\site-packages (from mlflow) (21.3)\n",
      "Requirement already satisfied: pandas in c:\\users\\gaura\\anaconda3\\lib\\site-packages (from mlflow) (1.4.2)\n",
      "Requirement already satisfied: requests>=2.17.3 in c:\\users\\gaura\\anaconda3\\lib\\site-packages (from mlflow) (2.27.1)\n",
      "Requirement already satisfied: entrypoints in c:\\users\\gaura\\anaconda3\\lib\\site-packages (from mlflow) (0.4)\n",
      "Requirement already satisfied: colorama in c:\\users\\gaura\\anaconda3\\lib\\site-packages (from click>=7.0->mlflow) (0.4.4)\n",
      "Requirement already satisfied: oauthlib>=3.1.0 in c:\\users\\gaura\\anaconda3\\lib\\site-packages (from databricks-cli>=0.8.7->mlflow) (3.2.0)\n",
      "Requirement already satisfied: pyjwt>=1.7.0 in c:\\users\\gaura\\anaconda3\\lib\\site-packages (from databricks-cli>=0.8.7->mlflow) (2.1.0)\n",
      "Requirement already satisfied: tabulate>=0.7.7 in c:\\users\\gaura\\anaconda3\\lib\\site-packages (from databricks-cli>=0.8.7->mlflow) (0.8.9)\n",
      "Requirement already satisfied: six>=1.10.0 in c:\\users\\gaura\\anaconda3\\lib\\site-packages (from databricks-cli>=0.8.7->mlflow) (1.16.0)\n",
      "Requirement already satisfied: pywin32==227 in c:\\users\\gaura\\anaconda3\\lib\\site-packages (from docker>=4.0.0->mlflow) (227)\n",
      "Requirement already satisfied: websocket-client>=0.32.0 in c:\\users\\gaura\\anaconda3\\lib\\site-packages (from docker>=4.0.0->mlflow) (0.58.0)\n",
      "Requirement already satisfied: gitdb<5,>=4.0.1 in c:\\users\\gaura\\anaconda3\\lib\\site-packages (from gitpython>=2.1.0->mlflow) (4.0.9)\n",
      "Requirement already satisfied: smmap<6,>=3.0.1 in c:\\users\\gaura\\anaconda3\\lib\\site-packages (from gitdb<5,>=4.0.1->gitpython>=2.1.0->mlflow) (5.0.0)\n",
      "Requirement already satisfied: zipp>=0.5 in c:\\users\\gaura\\anaconda3\\lib\\site-packages (from importlib-metadata!=4.7.0,>=3.7.0->mlflow) (3.7.0)\n",
      "Requirement already satisfied: idna<4,>=2.5 in c:\\users\\gaura\\anaconda3\\lib\\site-packages (from requests>=2.17.3->mlflow) (3.3)\n",
      "Requirement already satisfied: urllib3<1.27,>=1.21.1 in c:\\users\\gaura\\anaconda3\\lib\\site-packages (from requests>=2.17.3->mlflow) (1.26.9)\n",
      "Requirement already satisfied: charset-normalizer~=2.0.0 in c:\\users\\gaura\\anaconda3\\lib\\site-packages (from requests>=2.17.3->mlflow) (2.0.4)\n",
      "Requirement already satisfied: certifi>=2017.4.17 in c:\\users\\gaura\\anaconda3\\lib\\site-packages (from requests>=2.17.3->mlflow) (2021.10.8)\n",
      "Requirement already satisfied: greenlet!=0.4.17 in c:\\users\\gaura\\anaconda3\\lib\\site-packages (from sqlalchemy>=1.4.0->mlflow) (1.1.1)\n",
      "Requirement already satisfied: Mako in c:\\users\\gaura\\anaconda3\\lib\\site-packages (from alembic->mlflow) (1.2.1)\n",
      "Requirement already satisfied: itsdangerous>=0.24 in c:\\users\\gaura\\anaconda3\\lib\\site-packages (from Flask->mlflow) (2.0.1)\n",
      "Requirement already satisfied: Jinja2>=2.10.1 in c:\\users\\gaura\\anaconda3\\lib\\site-packages (from Flask->mlflow) (2.11.3)\n",
      "Requirement already satisfied: Werkzeug>=0.15 in c:\\users\\gaura\\anaconda3\\lib\\site-packages (from Flask->mlflow) (2.0.3)\n",
      "Requirement already satisfied: MarkupSafe>=0.23 in c:\\users\\gaura\\anaconda3\\lib\\site-packages (from Jinja2>=2.10.1->Flask->mlflow) (2.0.1)\n",
      "Requirement already satisfied: pyparsing!=3.0.5,>=2.0.2 in c:\\users\\gaura\\anaconda3\\lib\\site-packages (from packaging->mlflow) (3.0.4)\n",
      "Requirement already satisfied: python-dateutil>=2.8.1 in c:\\users\\gaura\\anaconda3\\lib\\site-packages (from pandas->mlflow) (2.8.2)\n",
      "Requirement already satisfied: prometheus-client in c:\\users\\gaura\\anaconda3\\lib\\site-packages (from prometheus-flask-exporter->mlflow) (0.13.1)\n",
      "Requirement already satisfied: catboost in c:\\users\\gaura\\anaconda3\\lib\\site-packages (1.0.6)\n",
      "Requirement already satisfied: six in c:\\users\\gaura\\anaconda3\\lib\\site-packages (from catboost) (1.16.0)\n",
      "Requirement already satisfied: scipy in c:\\users\\gaura\\anaconda3\\lib\\site-packages (from catboost) (1.7.3)\n",
      "Requirement already satisfied: pandas>=0.24.0 in c:\\users\\gaura\\anaconda3\\lib\\site-packages (from catboost) (1.4.2)\n",
      "Requirement already satisfied: numpy>=1.16.0 in c:\\users\\gaura\\anaconda3\\lib\\site-packages (from catboost) (1.21.5)\n",
      "Requirement already satisfied: matplotlib in c:\\users\\gaura\\anaconda3\\lib\\site-packages (from catboost) (3.5.1)\n",
      "Requirement already satisfied: graphviz in c:\\users\\gaura\\anaconda3\\lib\\site-packages (from catboost) (0.20)\n",
      "Requirement already satisfied: plotly in c:\\users\\gaura\\anaconda3\\lib\\site-packages (from catboost) (5.6.0)\n",
      "Requirement already satisfied: pytz>=2020.1 in c:\\users\\gaura\\anaconda3\\lib\\site-packages (from pandas>=0.24.0->catboost) (2021.3)\n",
      "Requirement already satisfied: python-dateutil>=2.8.1 in c:\\users\\gaura\\anaconda3\\lib\\site-packages (from pandas>=0.24.0->catboost) (2.8.2)\n",
      "Requirement already satisfied: kiwisolver>=1.0.1 in c:\\users\\gaura\\anaconda3\\lib\\site-packages (from matplotlib->catboost) (1.3.2)\n",
      "Requirement already satisfied: pillow>=6.2.0 in c:\\users\\gaura\\anaconda3\\lib\\site-packages (from matplotlib->catboost) (9.0.1)\n",
      "Requirement already satisfied: pyparsing>=2.2.1 in c:\\users\\gaura\\anaconda3\\lib\\site-packages (from matplotlib->catboost) (3.0.4)\n",
      "Requirement already satisfied: fonttools>=4.22.0 in c:\\users\\gaura\\anaconda3\\lib\\site-packages (from matplotlib->catboost) (4.25.0)\n",
      "Requirement already satisfied: cycler>=0.10 in c:\\users\\gaura\\anaconda3\\lib\\site-packages (from matplotlib->catboost) (0.11.0)\n",
      "Requirement already satisfied: packaging>=20.0 in c:\\users\\gaura\\anaconda3\\lib\\site-packages (from matplotlib->catboost) (21.3)\n",
      "Requirement already satisfied: tenacity>=6.2.0 in c:\\users\\gaura\\anaconda3\\lib\\site-packages (from plotly->catboost) (8.0.1)\n"
     ]
    }
   ],
   "source": [
    "# Based on the official regression example:\n",
    "# https://catboost.ai/docs/concepts/python-usages-examples.html#regression\n",
    "!pip install mlflow\n",
    "!pip install catboost\n"
   ]
  },
  {
   "cell_type": "code",
   "execution_count": 10,
   "id": "ffcf85ea",
   "metadata": {},
   "outputs": [
    {
     "name": "stdout",
     "output_type": "stream",
     "text": [
      "0:\tlearn: 6.1237244\ttotal: 161ms\tremaining: 161ms\n",
      "1:\tlearn: 4.5927933\ttotal: 162ms\tremaining: 0us\n",
      "predictions: [15.625 18.125]\n"
     ]
    },
    {
     "name": "stderr",
     "output_type": "stream",
     "text": [
      "C:\\Users\\gaura\\anaconda3\\lib\\site-packages\\_distutils_hack\\__init__.py:30: UserWarning: Setuptools is replacing distutils.\n",
      "  warnings.warn(\"Setuptools is replacing distutils.\")\n"
     ]
    }
   ],
   "source": [
    "\n",
    "import mlflow\n",
    "from catboost import CatBoostRegressor\n",
    "\n",
    "# Initialize data\n",
    "train_data = [[1, 4, 5, 6], [4, 5, 6, 7], [30, 40, 50, 60]]\n",
    "train_labels = [10, 20, 30]\n",
    "eval_data = [[2, 4, 6, 8], [1, 4, 50, 60]]\n",
    "\n",
    "# Initialize CatBoostRegressor\n",
    "params = {\n",
    "    \"iterations\": 2,\n",
    "    \"learning_rate\": 1,\n",
    "    \"depth\": 2,\n",
    "    \"allow_writing_files\": False,\n",
    "}\n",
    "model = CatBoostRegressor(**params)\n",
    "\n",
    "# Fit model\n",
    "model.fit(train_data, train_labels)\n",
    "\n",
    "# Log parameters and fitted model\n",
    "with mlflow.start_run() as run:\n",
    "    mlflow.log_params(params)\n",
    "    mlflow.catboost.log_model(model, artifact_path=\"model\")\n",
    "    model_uri = mlflow.get_artifact_uri(\"model\")\n",
    "\n",
    "# Load model\n",
    "loaded_model = mlflow.catboost.load_model(model_uri)\n",
    "\n",
    "# Get predictions\n",
    "preds = loaded_model.predict(eval_data)\n",
    "print(\"predictions:\", preds)"
   ]
  }
 ],
 "metadata": {
  "kernelspec": {
   "display_name": "Python 3 (ipykernel)",
   "language": "python",
   "name": "python3"
  },
  "language_info": {
   "codemirror_mode": {
    "name": "ipython",
    "version": 3
   },
   "file_extension": ".py",
   "mimetype": "text/x-python",
   "name": "python",
   "nbconvert_exporter": "python",
   "pygments_lexer": "ipython3",
   "version": "3.9.12"
  }
 },
 "nbformat": 4,
 "nbformat_minor": 5
}
